{
 "cells": [
  {
   "cell_type": "markdown",
   "metadata": {},
   "source": [
    "# Imports"
   ]
  },
  {
   "cell_type": "code",
   "execution_count": 1,
   "metadata": {},
   "outputs": [],
   "source": [
    "! python3 -m dostoevsky download fasttext-social-network-model"
   ]
  },
  {
   "cell_type": "code",
   "execution_count": 2,
   "metadata": {},
   "outputs": [],
   "source": [
    "import dostoevsky\n",
    "from dostoevsky.tokenization import RegexTokenizer\n",
    "from dostoevsky.models import FastTextSocialNetworkModel"
   ]
  },
  {
   "cell_type": "markdown",
   "metadata": {},
   "source": [
    "# Setting model"
   ]
  },
  {
   "cell_type": "code",
   "execution_count": 3,
   "metadata": {},
   "outputs": [
    {
     "name": "stderr",
     "output_type": "stream",
     "text": [
      "Warning : `load_model` does not return WordVectorModel or SupervisedModel any more, but a `FastText` object which is very similar.\n"
     ]
    }
   ],
   "source": [
    "tokenizer = RegexTokenizer()\n",
    "model = FastTextSocialNetworkModel(tokenizer=tokenizer)"
   ]
  },
  {
   "cell_type": "markdown",
   "metadata": {},
   "source": [
    "# Put text and parse"
   ]
  },
  {
   "cell_type": "code",
   "execution_count": 4,
   "metadata": {},
   "outputs": [
    {
     "name": "stdout",
     "output_type": "stream",
     "text": [
      "Введите текст на русском языке:\n",
      "Искусственный интеллект нужен тем, кому не хватает естественного. Скоро диплом сдавать! Но так - все хорошо.\n"
     ]
    }
   ],
   "source": [
    "print('Введите текст на русском языке:')\n",
    "message = str(input())"
   ]
  },
  {
   "cell_type": "code",
   "execution_count": 5,
   "metadata": {},
   "outputs": [],
   "source": [
    "phrases = message.split('. ')"
   ]
  },
  {
   "cell_type": "markdown",
   "metadata": {},
   "source": [
    "# Analyse"
   ]
  },
  {
   "cell_type": "code",
   "execution_count": 6,
   "metadata": {},
   "outputs": [],
   "source": [
    "results = model.predict(phrases, k = 1)"
   ]
  },
  {
   "cell_type": "code",
   "execution_count": 7,
   "metadata": {},
   "outputs": [
    {
     "name": "stdout",
     "output_type": "stream",
     "text": [
      "Искусственный интеллект нужен тем, кому не хватает естественного -> {'neutral': 0.8354935646057129}\n",
      "Скоро диплом сдавать! Но так - все хорошо. -> {'positive': 0.7773098945617676}\n"
     ]
    }
   ],
   "source": [
    "for phrase, sentiment in zip(phrases, results):\n",
    "    print(phrase, '->', sentiment)"
   ]
  },
  {
   "cell_type": "code",
   "execution_count": 8,
   "metadata": {},
   "outputs": [],
   "source": [
    "negative = 0\n",
    "positive = 0\n",
    "neutral = 0\n",
    "\n",
    "for emotion in results:\n",
    "    key = list(emotion.keys())[0]\n",
    "    if key == 'neutral':\n",
    "        neutral += emotion[key]\n",
    "    elif key == 'positive':\n",
    "        positive += emotion[key]\n",
    "    elif key == 'negative':\n",
    "        negative += emotion[key]\n",
    "    else:\n",
    "        continue\n",
    "\n",
    "overall_score = negative+positive+neutral\n",
    "negative_part = negative/overall_score\n",
    "positive_part = positive/overall_score\n",
    "neutral_part = neutral/overall_score"
   ]
  },
  {
   "cell_type": "code",
   "execution_count": 9,
   "metadata": {},
   "outputs": [
    {
     "name": "stdout",
     "output_type": "stream",
     "text": [
      "Negativeness: 0.0\n",
      "Positiveness: 0.481961946536877\n",
      "Neutrality: 0.5180380534631229\n"
     ]
    }
   ],
   "source": [
    "print('Negativeness:', negative_part)\n",
    "print('Positiveness:', positive_part)\n",
    "print('Neutrality:', neutral_part)"
   ]
  },
  {
   "cell_type": "code",
   "execution_count": null,
   "metadata": {},
   "outputs": [],
   "source": []
  }
 ],
 "metadata": {
  "kernelspec": {
   "display_name": "Python 3",
   "language": "python",
   "name": "python3"
  },
  "language_info": {
   "codemirror_mode": {
    "name": "ipython",
    "version": 3
   },
   "file_extension": ".py",
   "mimetype": "text/x-python",
   "name": "python",
   "nbconvert_exporter": "python",
   "pygments_lexer": "ipython3",
   "version": "3.7.4"
  }
 },
 "nbformat": 4,
 "nbformat_minor": 2
}
